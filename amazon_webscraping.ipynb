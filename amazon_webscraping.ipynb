{
  "nbformat": 4,
  "nbformat_minor": 0,
  "metadata": {
    "colab": {
      "provenance": []
    },
    "kernelspec": {
      "name": "python3",
      "display_name": "Python 3"
    },
    "language_info": {
      "name": "python"
    }
  },
  "cells": [
    {
      "cell_type": "code",
      "source": [
        "import requests\n",
        "from bs4 import BeautifulSoup\n",
        "import pandas as pd\n",
        "\n",
        "products = []\n",
        "prices = []\n",
        "ratings = []\n",
        "\n",
        "url = \"https://www.amazon.in/s?k=cctv+camera&crid=2XY83A3M98VCX&sprefix=cc%2Caps%2C331&ref=nb_sb_ss_ts-doa-p_2_2\"\n",
        "response = requests.get(url)\n",
        "soup = BeautifulSoup(response.content, \"html.parser\")\n",
        "product_tags = soup.select('div.s-result-item')\n",
        "for product_tag in product_tags:\n",
        "    name = product_tag.select_one('h2.a-size-mini > a')\n",
        "    price = product_tag.select_one('span.a-price-whole')\n",
        "    rating = product_tag.select_one('span.a-icon-alt')\n",
        "    if name and price and rating:\n",
        "        products.append(name.text.strip())\n",
        "        prices.append(int(price.text.replace(',', '')))\n",
        "        ratings.append(float(rating.text.split()[0]))\n",
        "\n",
        "data = pd.DataFrame({'Product Name': products, 'Price (in Rs.)': prices, 'Rating': ratings})\n",
        "data.to_csv(\"amazon.csv\", index=False)"
      ],
      "metadata": {
        "id": "yeCk3saI72mQ"
      },
      "execution_count": 18,
      "outputs": []
    }
  ]
}