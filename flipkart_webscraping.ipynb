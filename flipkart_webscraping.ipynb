{
  "nbformat": 4,
  "nbformat_minor": 0,
  "metadata": {
    "colab": {
      "provenance": []
    },
    "kernelspec": {
      "name": "python3",
      "display_name": "Python 3"
    },
    "language_info": {
      "name": "python"
    }
  },
  "cells": [
    {
      "cell_type": "code",
      "execution_count": 2,
      "metadata": {
        "id": "2UQ4blKl1Bzj"
      },
      "outputs": [],
      "source": [
        "import requests\n",
        "from bs4 import BeautifulSoup\n",
        "import pandas as pd\n",
        "\n",
        "products = []\n",
        "prices = []\n",
        "ratings = []\n",
        "\n",
        "for page_num in range(1, 100):\n",
        "    url = f\"https://www.flipkart.com/search?q=cctv+camera&as=on&as-show=on&otracker=AS_Query_HistoryAutoSuggest_1_2_na_na_na&otracker1=AS_Query_HistoryAutoSuggest_1_2_na_na_na&as-pos=1&as-type=HISTORY&suggestionId=cctv+camera&requestId=a6ee5cfc-3910-4ea3-908b-39812de20c56&as-searchtext=cc{page_num}\"\n",
        "    response = requests.get(url)\n",
        "    soup = BeautifulSoup(response.content, \"html.parser\")\n",
        "    product_tags = soup.select('div._13oc-S')\n",
        "    for product_tag in product_tags:\n",
        "        name = product_tag.select_one('a.s1Q9rs')\n",
        "        price = product_tag.select_one('div._30jeq3')\n",
        "        rating = product_tag.select_one('span._1lRcqv')\n",
        "        if name and price and rating:\n",
        "             products.append(name.text.strip())\n",
        "            prices.append(int(price.text.strip()[1:].replace(',', '')))\n",
        "            ratings.append(float(rating.text.strip()))\n",
        "\n",
        "data = pd.DataFrame({'Product Name': products, 'Price (in Rs.)': prices, 'Rating': ratings})\n",
        "data.to_csv(\"flipkart.csv\", index=False)\n"
      ]
    }
  ]
}